{
  "nbformat": 4,
  "nbformat_minor": 0,
  "metadata": {
    "colab": {
      "provenance": []
    },
    "kernelspec": {
      "name": "python3",
      "display_name": "Python 3"
    },
    "language_info": {
      "name": "python"
    }
  },
  "cells": [
    {
      "cell_type": "markdown",
      "source": [
        "# 1: Single Inheritance\n",
        "ทดสอบความเข้าเรื่อง superclass และ subclass โดยให้นักศึกษาสร้างคลาส Vehicle โดยมีคุณสมบัติดังนี้\n",
        "\n",
        "Attribute:\n",
        "*   brand สำหรับเก็บยี่ห้อ\n",
        "*   speed สำหรับเก็บความเร็ว\n",
        "\n",
        "Method:\n",
        "*   display_info() แสดงยี่ห้อรถ และความเร็วในหน่วย km/h\n",
        "*   accelerate() เพิ่มความเร็วของรถตามจำนวนที่ระบุ และแสดงความเร็วใหม่ทางหน้าจอ\n",
        "\n",
        "จากนั้นสร้างซับคลาส Car โดยสืบทอดจากคลาส Vehicle โดยมี Attribute เพิ่มคือ\n",
        "\n",
        "*   fuel_type เพื่อเก็บชนิดของเชื้อเพลิง\n",
        "\n",
        "และมีเมธอดเพิ่มคือ\n",
        "\n",
        "*   apply_brake() ซึ่งลดความเร็วของรถตามจำนวนที่ระบุ โดยความเร็วของรถห้ามเป็นค่าติดลบ\n",
        "\n",
        "จากนั้นแก้ไข(overide)การแสดงผลของเมธอด display_info()ของ class Vehicle เพื่อเพิ่มส่วนของการแสดงผล fuel_type\n"
      ],
      "metadata": {
        "id": "q4yKy7AFZgJp"
      }
    },
    {
      "cell_type": "code",
      "execution_count": null,
      "metadata": {
        "id": "H5VatYN0Y6kF"
      },
      "outputs": [],
      "source": [
        "class Vehicle:\n",
        "    def __init__(self, brand, speed):\n",
        "        self.brand = brand\n",
        "        self.speed = speed\n",
        "    def display_info(self):\n",
        "        print(f\"Brand: {self.brand}, Speed: {self.speed} km/h\")\n",
        "    def accelerate(self, value):\n",
        "        self.speed += value\n",
        "        print(f\"Accelerated! New Speed: {self.speed} km/h\")\n",
        "\n",
        "class Car(Vehicle):\n",
        "    def __init__(self, brand, speed, fuel_type):\n",
        "        super().__init__(brand, speed)\n",
        "        self.fuel_type = fuel_type\n",
        "    def apply_brake(self, value):\n",
        "        self.speed = max(0, self.speed - value)\n",
        "        print(f\"Brake applied! New Speed: {self.speed} km/h\")\n",
        "    def display_info(self):\n",
        "        super().display_info()\n",
        "        print(f\"Fuel Type: {self.fuel_type}\")"
      ]
    },
    {
      "cell_type": "markdown",
      "source": [
        "สร้างออปเจค Car และทดสอบการเรียกใช้เมธอด"
      ],
      "metadata": {
        "id": "pLB5ruXrdqh0"
      }
    },
    {
      "cell_type": "code",
      "source": [
        "my_car = Car(\"Honda\", 100, \"diesel\")\n",
        "my_car.display_info()\n",
        "my_car.accelerate(30)\n",
        "my_car.apply_brake(50)\n",
        "my_car.display_info()\n"
      ],
      "metadata": {
        "id": "ve8vk38NdptP",
        "colab": {
          "base_uri": "https://localhost:8080/"
        },
        "outputId": "bb31c656-20be-49c6-9765-8222286a15fe"
      },
      "execution_count": null,
      "outputs": [
        {
          "output_type": "stream",
          "name": "stdout",
          "text": [
            "Brand: Honda, Speed: 100 km/h\n",
            "Fuel Type: diesel\n",
            "Accelerated! New Speed: 130 km/h\n",
            "Brake applied! New Speed: 80 km/h\n",
            "Brand: Honda, Speed: 80 km/h\n",
            "Fuel Type: diesel\n"
          ]
        }
      ]
    },
    {
      "cell_type": "markdown",
      "source": [
        "# 2: Multilevel Inheritance\n",
        "สร้างsubclass ElectricCar สืบทอดจากคลาส Car โดยเพิ่มแอตทริบิวต์\n",
        "* battery_capacity สำหรับเก็บความจุแบตเตอรี่\n",
        "\n",
        "และเมธอด\n",
        "* battery_status() เพื่อเช็คสถานะของแบตเตอรี่ หากมากกว่า 90 ให้แสดงสถานะ Full Battery หากอยู่ในช่วง 40-89 แสดงสถานะ Normal battery และหากต่ำกว่า 40 แสดงสถานะ Low battery\n",
        "\n",
        "จากนั้น overide เมธอด display_info() จากคลาส Car โดยเพิ่มส่วนของการแสดงผล battery_capacity ในหน่วย kWh"
      ],
      "metadata": {
        "id": "VOQtvWOpcnrY"
      }
    },
    {
      "cell_type": "code",
      "source": [
        "class ElectricCar(Car):\n",
        "    def __init__(self, brand, speed, fuel_type, battery_capacity):\n",
        "        super().__init__(brand, speed, fuel_type)\n",
        "        self.battery_capacity = battery_capacity\n",
        "        self.battery_level = 100\n",
        "\n",
        "    def battery_status(self):\n",
        "        if 100 <= self.battery_level > 90:\n",
        "            print(\"Full Battery\")\n",
        "        elif 89 >= self.battery_level > 40:\n",
        "            print(\"Normal Battery\")\n",
        "        else:\n",
        "            print(\"Low Battery\")\n",
        "    def display_info(self):\n",
        "        super().display_info()\n",
        "        print(f\"Battery Capacity: {self.battery_capacity} kWh\")\n",
        "\n",
        "my_electric_car = ElectricCar(\"Tesla\", 150, \"Electric\", 75)\n",
        "my_electric_car.display_info()\n",
        "my_electric_car.battery_status()\n",
        "\n",
        "my_electric_car.battery_level = 50\n",
        "my_electric_car.battery_status()\n",
        "\n",
        "my_electric_car.battery_level = 30\n",
        "my_electric_car.battery_status()\n"
      ],
      "metadata": {
        "id": "ZjAV506bfjKz",
        "colab": {
          "base_uri": "https://localhost:8080/"
        },
        "outputId": "74232530-af09-4654-f7bf-beefd4b7eace"
      },
      "execution_count": null,
      "outputs": [
        {
          "output_type": "stream",
          "name": "stdout",
          "text": [
            "Brand: Tesla, Speed: 150 km/h\n",
            "Fuel Type: Electric\n",
            "Battery Capacity: 75 kWh\n",
            "Full Battery\n",
            "Normal Battery\n",
            "Low Battery\n"
          ]
        }
      ]
    },
    {
      "cell_type": "markdown",
      "source": [
        "#3: Multiple Inheritance\n",
        "\n",
        "สร้างคลาส GPS เพื่อเก็บพิกัด latitude และ longtitude และมีเมธอด\n",
        "* display_location() เพื่อแสดงพิกัด\n",
        "* update_location() เพื่ออัปเดตตำแหน่ง\n",
        "\n",
        "จากนั้นสร้างคลาส SmartElectricCar สำหรับรถไฟฟ้าอัจริยะโดยคลาส SmartElectricCar สืบทอดจากทั้ง ElectricCar และ GPS\n",
        "โดยมีเมธอดเพิ่มเติมคือ\n",
        "* self_driving_mode() เพื่อเปิดโหมดการขับขี่แบบ autopilot โดยแสดงผลข้อความ Autopilot activated หากความเร็วของรถต่ำกว่า 100 มิฉะนั้นจะแสดงข้อความ Manual driving required\n",
        "\n",
        "\n",
        "จากนั้นoverideเมธอด display_info()โดยเพิ่มการแสดงผลพิกัด GPS ของรถ\n",
        "\n"
      ],
      "metadata": {
        "id": "W9lEUrCOfknl"
      }
    },
    {
      "cell_type": "code",
      "source": [
        "class GPS:\n",
        "    def __init__(self, latitude, longitude):\n",
        "        self.latitude = latitude\n",
        "        self.longitude = longitude\n",
        "\n",
        "    def display_location(self):\n",
        "        print(f\"Current Location: Latitude {self.latitude}, Longitude {self.longitude}\")\n",
        "\n",
        "    def update_location(self, latitude, longitude):\n",
        "        self.latitude = latitude\n",
        "        self.longitude = longitude\n",
        "        print(\"Location updated!\")\n",
        "\n",
        "class SmartElectricCar(ElectricCar, GPS):\n",
        "    def __init__(self, brand, speed, fuel_type, battery_capacity, latitude, longitude):\n",
        "        ElectricCar.__init__(self, brand, speed, fuel_type, battery_capacity)\n",
        "        GPS.__init__(self, latitude, longitude)\n",
        "    def self_driving_mode(self):\n",
        "        if self.speed < 100:\n",
        "            print(\"Autopilot activated\")\n",
        "        else:\n",
        "            print(\"Manual driving required\")\n",
        "    def display_info(self):\n",
        "        super().display_info()\n",
        "        self.display_location()\n",
        "\n",
        "my_smart_car = SmartElectricCar(\"Tesla\", 90, \"Electric\", 75, 13.736717, 100.523186)\n",
        "my_smart_car.display_info()\n",
        "my_smart_car.self_driving_mode()\n",
        "my_smart_car.update_location(14.001, 101.999)\n",
        "my_smart_car.display_info()\n"
      ],
      "metadata": {
        "id": "ttp83Ox6giQv",
        "colab": {
          "base_uri": "https://localhost:8080/"
        },
        "outputId": "2e186e1b-53e9-46ca-a057-722cb4a82c64"
      },
      "execution_count": null,
      "outputs": [
        {
          "output_type": "stream",
          "name": "stdout",
          "text": [
            "Brand: Tesla, Speed: 90 km/h\n",
            "Fuel Type: Electric\n",
            "Battery Capacity: 75 kWh\n",
            "Current Location: Latitude 13.736717, Longitude 100.523186\n",
            "Autopilot activated\n",
            "Location updated!\n",
            "Brand: Tesla, Speed: 90 km/h\n",
            "Fuel Type: Electric\n",
            "Battery Capacity: 75 kWh\n",
            "Current Location: Latitude 14.001, Longitude 101.999\n"
          ]
        }
      ]
    },
    {
      "cell_type": "markdown",
      "source": [
        "สร้างออปเจคคลาส SmartElectricCar จากนั้นทอสอบการใช้งานเมธอด"
      ],
      "metadata": {
        "id": "iZCS5bkVfju3"
      }
    },
    {
      "cell_type": "code",
      "source": [
        "my_smart_car = SmartElectricCar(\"Tesla\", 100, \"Electric\", 85, 13.736717, 100.523186)\n",
        "\n",
        "my_smart_car.display_info()\n",
        "my_smart_car.self_driving_mode()\n",
        "my_smart_car.update_location(14.0219, 101.4200)\n",
        "my_smart_car.battery_status()\n",
        "\n",
        "my_smart_car.accelerate(20)\n",
        "my_smart_car.apply_brake(40)\n",
        "my_smart_car.display_info()\n"
      ],
      "metadata": {
        "id": "Fk7HVNuOguo2",
        "colab": {
          "base_uri": "https://localhost:8080/"
        },
        "outputId": "707bc479-8143-4268-85af-1d52515b3ca8"
      },
      "execution_count": null,
      "outputs": [
        {
          "output_type": "stream",
          "name": "stdout",
          "text": [
            "Brand: Tesla, Speed: 100 km/h\n",
            "Fuel Type: Electric\n",
            "Battery Capacity: 85 kWh\n",
            "Current Location: Latitude 13.736717, Longitude 100.523186\n",
            "Manual driving required\n",
            "Location updated!\n",
            "Full Battery\n",
            "Accelerated! New Speed: 120 km/h\n",
            "Brake applied! New Speed: 80 km/h\n",
            "Brand: Tesla, Speed: 80 km/h\n",
            "Fuel Type: Electric\n",
            "Battery Capacity: 85 kWh\n",
            "Current Location: Latitude 14.0219, Longitude 101.42\n"
          ]
        }
      ]
    },
    {
      "cell_type": "markdown",
      "source": [
        "# Final Challenge: ระบบจัดการร้านค้า\n",
        "\n",
        "จงออกแบบและสร้างคลาสสำหรับสินค้าในร้านค้าสามประเภท Electronics Clothing และ Grocery โดยใช้หลักการ Inheritance\n",
        "1. สินค้าประเภท Electronics จะมี หมายเลขSerialNumber ชื่อ ราคา ประเภทอุปกรณ์และจำนวนวันรับประกันหลังการซื้อ\n",
        "2. สินค้าประเภท Clothing จะมี Serial Number ชื่อ ราคา ขนาด และ แบรนด์\n",
        "3. สินค้าประเภท Grocery จะมี Serial Number ชื่อ ราคา และวันหมดอายุ\n",
        "\n",
        "สร้างคลาสระบบจัดการร้านค้า Store โดยในร้านค้าจะประกอบไปด้วยรายการสินค้าทั้งหมด โดยผู้ดูแลร้านสามารถ\n",
        "\n",
        "*   เพิ่มสินค้าได้โดย Serial Number ของสินค้าใหม่ ห้ามซ้ำกับสินค้าเดิมในร้าน\n",
        "*   แสดงผลรายละเอียดสินค้าทั้งหมดในร้านได้\n",
        "*   ลดราคาสินค้าในร้านได้ ตามประเภทของสินค้า ตามจำนวน % ที่กำหนด เช่น ลดราคาเสื้อผ้าทั้งหมด 30%\n",
        "\n",
        "\n",
        "\n",
        "\n",
        "\n"
      ],
      "metadata": {
        "id": "NaUxdEF9ibGV"
      }
    },
    {
      "cell_type": "code",
      "source": [
        "class Product:\n",
        "    def __init__(self, serial_number, name, price):\n",
        "        self.serial_number = serial_number\n",
        "        self.name = name\n",
        "        self.price = price\n",
        "\n",
        "    def display_details(self):\n",
        "        return f\"Serial: {self.serial_number}, Name: {self.name}, Price: {self.price}\"\n",
        "\n",
        "    def apply_discount(self, percentage):\n",
        "        self.price -= self.price * (percentage / 100)\n",
        "\n",
        "class Electronics(Product):\n",
        "    def __init__(self, serial_number, name, price, device_type, warranty_period):\n",
        "        super().__init__(serial_number, name, price)\n",
        "        self.device_type = device_type\n",
        "        self.warranty_period = warranty_period\n",
        "\n",
        "    def display_details(self):\n",
        "        details = super().display_details()\n",
        "        return f\"{details}, Type: {self.device_type}, Warranty: {self.warranty_period} months\"\n",
        "\n",
        "class Clothing(Product):\n",
        "    def __init__(self, serial_number, name, price, size, brand):\n",
        "        super().__init__(serial_number, name, price)\n",
        "        self.size = size\n",
        "        self.brand = brand\n",
        "\n",
        "    def display_details(self):\n",
        "        details = super().display_details()\n",
        "        return f\"{details}, Size: {self.size}, Brand: {self.brand}\"\n",
        "\n",
        "class Grocery(Product):\n",
        "    def __init__(self, serial_number, name, price, expiration_date):\n",
        "        super().__init__(serial_number, name, price)\n",
        "        self.expiration_date = expiration_date\n",
        "\n",
        "    def display_details(self):\n",
        "        details = super().display_details()\n",
        "        return f\"{details}, Expiration: {self.expiration_date}\"\n",
        "\n",
        "class StoreManagementSystem:\n",
        "    def __init__(self):\n",
        "        self.products = {}\n",
        "\n",
        "    def add_product(self, product):\n",
        "        if product.serial_number in self.products:\n",
        "            print(\"Product with this serial number already exists.\")\n",
        "        else:\n",
        "            self.products[product.serial_number] = product\n",
        "            print(\"Product added successfully!\")\n",
        "\n",
        "    def display_all_products(self):\n",
        "        if not self.products:\n",
        "            print(\"No products in the store.\")\n",
        "        else:\n",
        "            for product in self.products.values():\n",
        "                print(product.display_details())\n",
        "\n",
        "    def apply_discount_by_category(self, category, percentage):\n",
        "        for product in self.products.values():\n",
        "            if isinstance(product, category):\n",
        "                product.apply_discount(percentage)\n"
      ],
      "metadata": {
        "id": "1bF_Vosw0KeR"
      },
      "execution_count": 7,
      "outputs": []
    },
    {
      "cell_type": "code",
      "source": [
        "tv = Electronics(\"E001\", \"Smart TV\", 15000, \"Home Appliance\", 24)\n",
        "shirt = Clothing(\"C001\", \"T-Shirt\", 500, \"M\", \"Nike\")\n",
        "milk = Grocery(\"G001\", \"Milk\", 50, \"2025-12-31\")\n"
      ],
      "metadata": {
        "id": "rMjbaY6l02-x"
      },
      "execution_count": 10,
      "outputs": []
    },
    {
      "cell_type": "code",
      "source": [
        "store = StoreManagementSystem()\n",
        "store.add_product(tv)\n",
        "store.add_product(shirt)\n",
        "store.add_product(milk)\n"
      ],
      "metadata": {
        "colab": {
          "base_uri": "https://localhost:8080/"
        },
        "id": "M8UanWz705k5",
        "outputId": "22ac6015-533e-4814-ca08-49bba2dcec08"
      },
      "execution_count": 11,
      "outputs": [
        {
          "output_type": "stream",
          "name": "stdout",
          "text": [
            "Product added successfully!\n",
            "Product added successfully!\n",
            "Product added successfully!\n"
          ]
        }
      ]
    },
    {
      "cell_type": "code",
      "source": [
        "store.display_all_products()\n",
        "store.apply_discount_by_category(Clothing, 30)\n",
        "store.display_all_products()\n"
      ],
      "metadata": {
        "colab": {
          "base_uri": "https://localhost:8080/"
        },
        "id": "B714pN6W08BC",
        "outputId": "9072146f-041a-41f0-ebc2-61fd8e533c7a"
      },
      "execution_count": 12,
      "outputs": [
        {
          "output_type": "stream",
          "name": "stdout",
          "text": [
            "Serial: E001, Name: Smart TV, Price: 15000, Type: Home Appliance, Warranty: 24 months\n",
            "Serial: C001, Name: T-Shirt, Price: 500, Size: M, Brand: Nike\n",
            "Serial: G001, Name: Milk, Price: 50, Expiration: 2025-12-31\n",
            "Serial: E001, Name: Smart TV, Price: 15000, Type: Home Appliance, Warranty: 24 months\n",
            "Serial: C001, Name: T-Shirt, Price: 350.0, Size: M, Brand: Nike\n",
            "Serial: G001, Name: Milk, Price: 50, Expiration: 2025-12-31\n"
          ]
        }
      ]
    }
  ]
}